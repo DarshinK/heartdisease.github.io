{
 "cells": [
  {
   "cell_type": "code",
   "execution_count": 464,
   "metadata": {},
   "outputs": [],
   "source": [
    "import pandas as pd\n",
    "import matplotlib.pyplot as plt\n",
    "import numpy as np\n",
    "from sklearn.linear_model import LogisticRegression,LinearRegression\n",
    "from sklearn.svm import SVC\n",
    "from sklearn.ensemble import RandomForestClassifier,GradientBoostingClassifier,RandomForestRegressor\n",
    "from sklearn.model_selection import train_test_split,cross_val_score\n",
    "from sklearn.preprocessing import StandardScaler\n",
    "from sklearn.neighbors import KNeighborsClassifier\n",
    "from sklearn.metrics import classification_report,balanced_accuracy_score,fbeta_score,accuracy_score,precision_recall_curve,mean_tweedie_deviance\n",
    "from imblearn.over_sampling import RandomOverSampler,SMOTE,ADASYN\n",
    "from imblearn.under_sampling import RandomUnderSampler\n",
    "\n"
   ]
  },
  {
   "cell_type": "code",
   "execution_count": 465,
   "metadata": {},
   "outputs": [],
   "source": [
    "data=pd.read_csv(\"BRFSS2019_Final.csv\")"
   ]
  },
  {
   "cell_type": "code",
   "execution_count": 466,
   "metadata": {},
   "outputs": [
    {
     "name": "stdout",
     "output_type": "stream",
     "text": [
      "   High_Blood_Pressure  Had_Heart_Attack(Target2)  Any_Heart_Stroke  \\\n",
      "0                    1                          2                 2   \n",
      "1                    3                          2                 2   \n",
      "2                    1                          2                 2   \n",
      "3                    1                          2                 2   \n",
      "4                    3                          2                 2   \n",
      "\n",
      "   Check_Kidney  Diabetes  Diabetis-age  Smoker  Exercise_Any  \\\n",
      "0             2         3           999       1             2   \n",
      "1             2         3           999       2             1   \n",
      "2             2         1            30       2             1   \n",
      "3             2         3           999     999           999   \n",
      "4             2         3           999       1             2   \n",
      "\n",
      "   Cholesterol_Check  Sex  Age_Group  BMI categories  Drinker_Any  \n",
      "0                  1    2         13               3            2  \n",
      "1                  1    2         11               2            2  \n",
      "2                  1    2         10               4            2  \n",
      "3                  1    2         13               2            9  \n",
      "4                  1    2         13               2            2  \n"
     ]
    }
   ],
   "source": [
    "x=data.loc[:,data.columns!=\"Had_Cardiovascular_Disease\"]\n",
    "# x=x.loc[:,x.columns!=\"Had_Heart_Attack(Target2)\"]\n",
    "y=data[\"Had_Cardiovascular_Disease\"] \n",
    "print(x.head())"
   ]
  },
  {
   "cell_type": "code",
   "execution_count": 467,
   "metadata": {},
   "outputs": [
    {
     "data": {
      "text/plain": [
       "Index(['High_Blood_Pressure', 'Had_Heart_Attack(Target2)', 'Any_Heart_Stroke',\n",
       "       'Check_Kidney', 'Diabetes', 'Diabetis-age', 'Smoker', 'Exercise_Any',\n",
       "       'Cholesterol_Check', 'Sex', 'Age_Group', 'BMI categories',\n",
       "       'Drinker_Any'],\n",
       "      dtype='object')"
      ]
     },
     "execution_count": 467,
     "metadata": {},
     "output_type": "execute_result"
    }
   ],
   "source": [
    "x_train,x_test,y_train,y_test=train_test_split(x,y,train_size=0.8,random_state=42,stratify=y)\n",
    "x.columns"
   ]
  },
  {
   "cell_type": "code",
   "execution_count": 468,
   "metadata": {},
   "outputs": [],
   "source": [
    "# stdscale=StandardScaler()\n",
    "# stdscale.fit(x)\n",
    "# x_train=stdscale.transform(x_train)\n",
    "# x_test=stdscale.transform(x_test)"
   ]
  },
  {
   "cell_type": "code",
   "execution_count": 469,
   "metadata": {},
   "outputs": [],
   "source": [
    "# sampler=ADASYN(sampling_strategy=\"auto\",random_state=42)\n",
    "# x_train,y_train=sampler.fit_resample(x_train,y_train)"
   ]
  },
  {
   "cell_type": "code",
   "execution_count": 470,
   "metadata": {},
   "outputs": [
    {
     "data": {
      "text/html": [
       "<style>#sk-container-id-27 {color: black;}#sk-container-id-27 pre{padding: 0;}#sk-container-id-27 div.sk-toggleable {background-color: white;}#sk-container-id-27 label.sk-toggleable__label {cursor: pointer;display: block;width: 100%;margin-bottom: 0;padding: 0.3em;box-sizing: border-box;text-align: center;}#sk-container-id-27 label.sk-toggleable__label-arrow:before {content: \"▸\";float: left;margin-right: 0.25em;color: #696969;}#sk-container-id-27 label.sk-toggleable__label-arrow:hover:before {color: black;}#sk-container-id-27 div.sk-estimator:hover label.sk-toggleable__label-arrow:before {color: black;}#sk-container-id-27 div.sk-toggleable__content {max-height: 0;max-width: 0;overflow: hidden;text-align: left;background-color: #f0f8ff;}#sk-container-id-27 div.sk-toggleable__content pre {margin: 0.2em;color: black;border-radius: 0.25em;background-color: #f0f8ff;}#sk-container-id-27 input.sk-toggleable__control:checked~div.sk-toggleable__content {max-height: 200px;max-width: 100%;overflow: auto;}#sk-container-id-27 input.sk-toggleable__control:checked~label.sk-toggleable__label-arrow:before {content: \"▾\";}#sk-container-id-27 div.sk-estimator input.sk-toggleable__control:checked~label.sk-toggleable__label {background-color: #d4ebff;}#sk-container-id-27 div.sk-label input.sk-toggleable__control:checked~label.sk-toggleable__label {background-color: #d4ebff;}#sk-container-id-27 input.sk-hidden--visually {border: 0;clip: rect(1px 1px 1px 1px);clip: rect(1px, 1px, 1px, 1px);height: 1px;margin: -1px;overflow: hidden;padding: 0;position: absolute;width: 1px;}#sk-container-id-27 div.sk-estimator {font-family: monospace;background-color: #f0f8ff;border: 1px dotted black;border-radius: 0.25em;box-sizing: border-box;margin-bottom: 0.5em;}#sk-container-id-27 div.sk-estimator:hover {background-color: #d4ebff;}#sk-container-id-27 div.sk-parallel-item::after {content: \"\";width: 100%;border-bottom: 1px solid gray;flex-grow: 1;}#sk-container-id-27 div.sk-label:hover label.sk-toggleable__label {background-color: #d4ebff;}#sk-container-id-27 div.sk-serial::before {content: \"\";position: absolute;border-left: 1px solid gray;box-sizing: border-box;top: 0;bottom: 0;left: 50%;z-index: 0;}#sk-container-id-27 div.sk-serial {display: flex;flex-direction: column;align-items: center;background-color: white;padding-right: 0.2em;padding-left: 0.2em;position: relative;}#sk-container-id-27 div.sk-item {position: relative;z-index: 1;}#sk-container-id-27 div.sk-parallel {display: flex;align-items: stretch;justify-content: center;background-color: white;position: relative;}#sk-container-id-27 div.sk-item::before, #sk-container-id-27 div.sk-parallel-item::before {content: \"\";position: absolute;border-left: 1px solid gray;box-sizing: border-box;top: 0;bottom: 0;left: 50%;z-index: -1;}#sk-container-id-27 div.sk-parallel-item {display: flex;flex-direction: column;z-index: 1;position: relative;background-color: white;}#sk-container-id-27 div.sk-parallel-item:first-child::after {align-self: flex-end;width: 50%;}#sk-container-id-27 div.sk-parallel-item:last-child::after {align-self: flex-start;width: 50%;}#sk-container-id-27 div.sk-parallel-item:only-child::after {width: 0;}#sk-container-id-27 div.sk-dashed-wrapped {border: 1px dashed gray;margin: 0 0.4em 0.5em 0.4em;box-sizing: border-box;padding-bottom: 0.4em;background-color: white;}#sk-container-id-27 div.sk-label label {font-family: monospace;font-weight: bold;display: inline-block;line-height: 1.2em;}#sk-container-id-27 div.sk-label-container {text-align: center;}#sk-container-id-27 div.sk-container {/* jupyter's `normalize.less` sets `[hidden] { display: none; }` but bootstrap.min.css set `[hidden] { display: none !important; }` so we also need the `!important` here to be able to override the default hidden behavior on the sphinx rendered scikit-learn.org. See: https://github.com/scikit-learn/scikit-learn/issues/21755 */display: inline-block !important;position: relative;}#sk-container-id-27 div.sk-text-repr-fallback {display: none;}</style><div id=\"sk-container-id-27\" class=\"sk-top-container\"><div class=\"sk-text-repr-fallback\"><pre>RandomForestClassifier(class_weight={0: 0.1, 1: 0.53}, min_samples_leaf=10,\n",
       "                       n_estimators=10, random_state=42)</pre><b>In a Jupyter environment, please rerun this cell to show the HTML representation or trust the notebook. <br />On GitHub, the HTML representation is unable to render, please try loading this page with nbviewer.org.</b></div><div class=\"sk-container\" hidden><div class=\"sk-item\"><div class=\"sk-estimator sk-toggleable\"><input class=\"sk-toggleable__control sk-hidden--visually\" id=\"sk-estimator-id-27\" type=\"checkbox\" checked><label for=\"sk-estimator-id-27\" class=\"sk-toggleable__label sk-toggleable__label-arrow\">RandomForestClassifier</label><div class=\"sk-toggleable__content\"><pre>RandomForestClassifier(class_weight={0: 0.1, 1: 0.53}, min_samples_leaf=10,\n",
       "                       n_estimators=10, random_state=42)</pre></div></div></div></div></div>"
      ],
      "text/plain": [
       "RandomForestClassifier(class_weight={0: 0.1, 1: 0.53}, min_samples_leaf=10,\n",
       "                       n_estimators=10, random_state=42)"
      ]
     },
     "execution_count": 470,
     "metadata": {},
     "output_type": "execute_result"
    }
   ],
   "source": [
    "classWeights={1:0.53,0:0.1}\n",
    "model=RandomForestClassifier(random_state=42,max_depth=None,min_samples_leaf=10,min_samples_split=2,n_estimators=10,class_weight=classWeights)\n",
    "model.fit(x_train,y_train)"
   ]
  },
  {
   "cell_type": "code",
   "execution_count": 471,
   "metadata": {},
   "outputs": [
    {
     "name": "stdout",
     "output_type": "stream",
     "text": [
      "0.5929557361477007\n"
     ]
    }
   ],
   "source": [
    "y_p=model.predict_proba(x_test)\n",
    "\n",
    "precision, recall, thresholds = precision_recall_curve(y_test, y_p[:,1])\n",
    "\n",
    "# plt.figure()\n",
    "# plt.plot(recall, precision, color='darkorange', lw=2)\n",
    "# plt.xlabel('Recall')\n",
    "# plt.ylabel('Precision')\n",
    "# plt.title('Precision-Recall Curve')\n",
    "# plt.show()\n",
    "f1_scores = 2 * (precision * recall) / (precision + recall)\n",
    "optimal_threshold = thresholds[np.argmax(f1_scores)]\n",
    "print(optimal_threshold)"
   ]
  },
  {
   "cell_type": "code",
   "execution_count": 472,
   "metadata": {},
   "outputs": [
    {
     "name": "stdout",
     "output_type": "stream",
     "text": [
      "              precision    recall  f1-score   support\n",
      "\n",
      "           0       0.97      0.95      0.96     61489\n",
      "           1       0.42      0.52      0.46      4155\n",
      "\n",
      "    accuracy                           0.92     65644\n",
      "   macro avg       0.69      0.74      0.71     65644\n",
      "weighted avg       0.93      0.92      0.93     65644\n",
      "\n"
     ]
    }
   ],
   "source": [
    "y_pred=model.predict(x_test)\n",
    "# y_pred=(y_p>optimal_threshold).astype(int)\n",
    "print(classification_report(y_test,y_pred))"
   ]
  },
  {
   "cell_type": "code",
   "execution_count": 473,
   "metadata": {},
   "outputs": [
    {
     "name": "stdout",
     "output_type": "stream",
     "text": [
      "              precision    recall  f1-score   support\n",
      "\n",
      "           0       0.97      0.95      0.96     61489\n",
      "           1       0.42      0.52      0.46      4155\n",
      "\n",
      "    accuracy                           0.92     65644\n",
      "   macro avg       0.69      0.74      0.71     65644\n",
      "weighted avg       0.93      0.92      0.93     65644\n",
      "\n"
     ]
    }
   ],
   "source": [
    "print(classification_report(y_test,y_pred))"
   ]
  },
  {
   "cell_type": "code",
   "execution_count": 474,
   "metadata": {},
   "outputs": [
    {
     "name": "stdout",
     "output_type": "stream",
     "text": [
      "0.7354957562483806\n"
     ]
    }
   ],
   "source": [
    "print(balanced_accuracy_score(y_test,y_pred))"
   ]
  },
  {
   "cell_type": "code",
   "execution_count": 475,
   "metadata": {},
   "outputs": [
    {
     "name": "stdout",
     "output_type": "stream",
     "text": [
      "True Negatives (TN): 58440\n",
      "True Positives (TP): 2163\n",
      "False Negatives (FN): 1992\n",
      "False Positives (FP): 3049\n"
     ]
    }
   ],
   "source": [
    "tn = np.sum((np.array(y_test) == 0) & (y_pred == 0))\n",
    "\n",
    "# True Positives (TP)\n",
    "tp = np.sum((np.array(y_test) == 1) & (y_pred == 1))\n",
    "\n",
    "# False Negatives (FN)\n",
    "fn = np.sum((np.array(y_test) == 1) & (y_pred == 0))\n",
    "# False Positives (FP)\n",
    "\n",
    "fp = np.sum((np.array(y_test) == 0) & (y_pred == 1))\n",
    "\n",
    "print(f\"True Negatives (TN): {tn}\")\n",
    "print(f\"True Positives (TP): {tp}\")\n",
    "print(f\"False Negatives (FN): {fn}\")\n",
    "print(f\"False Positives (FP): {fp}\")"
   ]
  },
  {
   "cell_type": "code",
   "execution_count": 476,
   "metadata": {},
   "outputs": [],
   "source": [
    "import pickle as pkl\n",
    "with open(\"HeartHealth_classifier_model.pkl\",\"wb\") as fp:\n",
    "    pkl.dump(model,fp)\n"
   ]
  },
  {
   "cell_type": "code",
   "execution_count": 477,
   "metadata": {},
   "outputs": [],
   "source": [
    "# with open(\"HeartHealth_classifier_model.pkl\",\"rb\") as f:\n",
    "#     model1=pkl.load(f)"
   ]
  },
  {
   "cell_type": "code",
   "execution_count": 478,
   "metadata": {},
   "outputs": [],
   "source": [
    "# model1.predict(x_test)\n",
    "# accuracy_score(y_pred,y_test)"
   ]
  },
  {
   "cell_type": "code",
   "execution_count": 479,
   "metadata": {},
   "outputs": [
    {
     "name": "stdout",
     "output_type": "stream",
     "text": [
      "65644\n",
      "[0.115434   0.8407537  0.09086544 ... 0.78697802 0.07492082 0.16332988]\n",
      "0.5929557361477007 0.10137757282548532 0.9567541547562657\n"
     ]
    }
   ],
   "source": [
    "temp=[]\n",
    "print(len(x_test))\n",
    "y_p1=model.predict_proba(x)\n",
    "for i in y_p1[:,1]:\n",
    "    if i<=optimal_threshold:\n",
    "        temp.append(i)\n",
    "print((y_p[:,1]))\n",
    "print(optimal_threshold,np.median(y_p1[:,1]),np.amax(y_p[:,1]))"
   ]
  },
  {
   "cell_type": "code",
   "execution_count": 480,
   "metadata": {},
   "outputs": [
    {
     "name": "stdout",
     "output_type": "stream",
     "text": [
      "Lower Tertile: 0.047638726968383435\n",
      "Middle Tertile: 0.19207434261195536\n"
     ]
    }
   ],
   "source": [
    "\n",
    "threshold1 = np.percentile(y_p1[:,1], 33.3333)\n",
    "threshold2 = np.percentile(y_p1[:,1], 66.6666)\n",
    "\n",
    "print(f\"Lower Tertile: {threshold1}\")\n",
    "print(f\"Middle Tertile: {threshold2}\")\n"
   ]
  },
  {
   "cell_type": "code",
   "execution_count": 486,
   "metadata": {},
   "outputs": [
    {
     "name": "stdout",
     "output_type": "stream",
     "text": [
      "0.8504726290270493\n"
     ]
    }
   ],
   "source": [
    "arr=[1,1,1,999,1,79,1,2,1,1,13,3,1]\n",
    "record=pd.DataFrame([arr],columns=x_test.columns)\n",
    "# print(record)\n",
    "# print(x_train,record)\n",
    "# record=stdscale.transform(record)\n",
    "print(model.predict_proba(record)[:,1][0])"
   ]
  },
  {
   "cell_type": "code",
   "execution_count": 482,
   "metadata": {},
   "outputs": [
    {
     "name": "stdout",
     "output_type": "stream",
     "text": [
      "High_Blood_Pressure            3\n",
      "Had_Heart_Attack(Target2)      2\n",
      "Any_Heart_Stroke               1\n",
      "Check_Kidney                   2\n",
      "Diabetes                       3\n",
      "Diabetis-age                 999\n",
      "Smoker                         1\n",
      "Exercise_Any                   2\n",
      "Cholesterol_Check              1\n",
      "Sex                            2\n",
      "Age_Group                     10\n",
      "BMI categories                 2\n",
      "Drinker_Any                    1\n",
      "Name: 40567, dtype: int64\n"
     ]
    }
   ],
   "source": [
    "max_prob_indices = np.argmax(model.predict_proba(x_test)[:,1])\n",
    "# print(max_prob_indices)\n",
    "# Print the resulting DataFrame\n",
    "# print(result_df)\n",
    "print(x.iloc[max_prob_indices])"
   ]
  },
  {
   "cell_type": "code",
   "execution_count": 483,
   "metadata": {},
   "outputs": [
    {
     "data": {
      "text/html": [
       "<div>\n",
       "<style scoped>\n",
       "    .dataframe tbody tr th:only-of-type {\n",
       "        vertical-align: middle;\n",
       "    }\n",
       "\n",
       "    .dataframe tbody tr th {\n",
       "        vertical-align: top;\n",
       "    }\n",
       "\n",
       "    .dataframe thead th {\n",
       "        text-align: right;\n",
       "    }\n",
       "</style>\n",
       "<table border=\"1\" class=\"dataframe\">\n",
       "  <thead>\n",
       "    <tr style=\"text-align: right;\">\n",
       "      <th></th>\n",
       "      <th>High_Blood_Pressure</th>\n",
       "      <th>Had_Heart_Attack(Target2)</th>\n",
       "      <th>Any_Heart_Stroke</th>\n",
       "      <th>Check_Kidney</th>\n",
       "      <th>Diabetes</th>\n",
       "      <th>Diabetis-age</th>\n",
       "      <th>Smoker</th>\n",
       "      <th>Exercise_Any</th>\n",
       "      <th>Cholesterol_Check</th>\n",
       "      <th>Sex</th>\n",
       "      <th>Age_Group</th>\n",
       "      <th>BMI categories</th>\n",
       "      <th>Drinker_Any</th>\n",
       "    </tr>\n",
       "  </thead>\n",
       "  <tbody>\n",
       "    <tr>\n",
       "      <th>34</th>\n",
       "      <td>3</td>\n",
       "      <td>2</td>\n",
       "      <td>2</td>\n",
       "      <td>2</td>\n",
       "      <td>3</td>\n",
       "      <td>999</td>\n",
       "      <td>2</td>\n",
       "      <td>1</td>\n",
       "      <td>1</td>\n",
       "      <td>2</td>\n",
       "      <td>7</td>\n",
       "      <td>2</td>\n",
       "      <td>1</td>\n",
       "    </tr>\n",
       "    <tr>\n",
       "      <th>70</th>\n",
       "      <td>3</td>\n",
       "      <td>2</td>\n",
       "      <td>2</td>\n",
       "      <td>2</td>\n",
       "      <td>3</td>\n",
       "      <td>999</td>\n",
       "      <td>999</td>\n",
       "      <td>999</td>\n",
       "      <td>1</td>\n",
       "      <td>1</td>\n",
       "      <td>3</td>\n",
       "      <td>4</td>\n",
       "      <td>9</td>\n",
       "    </tr>\n",
       "    <tr>\n",
       "      <th>217</th>\n",
       "      <td>3</td>\n",
       "      <td>2</td>\n",
       "      <td>2</td>\n",
       "      <td>2</td>\n",
       "      <td>3</td>\n",
       "      <td>999</td>\n",
       "      <td>2</td>\n",
       "      <td>1</td>\n",
       "      <td>1</td>\n",
       "      <td>2</td>\n",
       "      <td>7</td>\n",
       "      <td>2</td>\n",
       "      <td>1</td>\n",
       "    </tr>\n",
       "    <tr>\n",
       "      <th>238</th>\n",
       "      <td>3</td>\n",
       "      <td>2</td>\n",
       "      <td>2</td>\n",
       "      <td>2</td>\n",
       "      <td>3</td>\n",
       "      <td>999</td>\n",
       "      <td>2</td>\n",
       "      <td>1</td>\n",
       "      <td>1</td>\n",
       "      <td>2</td>\n",
       "      <td>6</td>\n",
       "      <td>4</td>\n",
       "      <td>1</td>\n",
       "    </tr>\n",
       "    <tr>\n",
       "      <th>242</th>\n",
       "      <td>3</td>\n",
       "      <td>2</td>\n",
       "      <td>2</td>\n",
       "      <td>2</td>\n",
       "      <td>3</td>\n",
       "      <td>999</td>\n",
       "      <td>1</td>\n",
       "      <td>999</td>\n",
       "      <td>1</td>\n",
       "      <td>1</td>\n",
       "      <td>6</td>\n",
       "      <td>3</td>\n",
       "      <td>9</td>\n",
       "    </tr>\n",
       "    <tr>\n",
       "      <th>...</th>\n",
       "      <td>...</td>\n",
       "      <td>...</td>\n",
       "      <td>...</td>\n",
       "      <td>...</td>\n",
       "      <td>...</td>\n",
       "      <td>...</td>\n",
       "      <td>...</td>\n",
       "      <td>...</td>\n",
       "      <td>...</td>\n",
       "      <td>...</td>\n",
       "      <td>...</td>\n",
       "      <td>...</td>\n",
       "      <td>...</td>\n",
       "    </tr>\n",
       "    <tr>\n",
       "      <th>328189</th>\n",
       "      <td>3</td>\n",
       "      <td>2</td>\n",
       "      <td>2</td>\n",
       "      <td>2</td>\n",
       "      <td>3</td>\n",
       "      <td>999</td>\n",
       "      <td>1</td>\n",
       "      <td>2</td>\n",
       "      <td>1</td>\n",
       "      <td>2</td>\n",
       "      <td>6</td>\n",
       "      <td>2</td>\n",
       "      <td>1</td>\n",
       "    </tr>\n",
       "    <tr>\n",
       "      <th>328201</th>\n",
       "      <td>3</td>\n",
       "      <td>2</td>\n",
       "      <td>2</td>\n",
       "      <td>2</td>\n",
       "      <td>3</td>\n",
       "      <td>999</td>\n",
       "      <td>1</td>\n",
       "      <td>2</td>\n",
       "      <td>2</td>\n",
       "      <td>1</td>\n",
       "      <td>1</td>\n",
       "      <td>3</td>\n",
       "      <td>1</td>\n",
       "    </tr>\n",
       "    <tr>\n",
       "      <th>328213</th>\n",
       "      <td>3</td>\n",
       "      <td>2</td>\n",
       "      <td>2</td>\n",
       "      <td>2</td>\n",
       "      <td>3</td>\n",
       "      <td>999</td>\n",
       "      <td>2</td>\n",
       "      <td>2</td>\n",
       "      <td>1</td>\n",
       "      <td>2</td>\n",
       "      <td>1</td>\n",
       "      <td>3</td>\n",
       "      <td>1</td>\n",
       "    </tr>\n",
       "    <tr>\n",
       "      <th>328215</th>\n",
       "      <td>3</td>\n",
       "      <td>2</td>\n",
       "      <td>2</td>\n",
       "      <td>2</td>\n",
       "      <td>3</td>\n",
       "      <td>999</td>\n",
       "      <td>2</td>\n",
       "      <td>1</td>\n",
       "      <td>1</td>\n",
       "      <td>2</td>\n",
       "      <td>7</td>\n",
       "      <td>3</td>\n",
       "      <td>1</td>\n",
       "    </tr>\n",
       "    <tr>\n",
       "      <th>328216</th>\n",
       "      <td>3</td>\n",
       "      <td>2</td>\n",
       "      <td>2</td>\n",
       "      <td>2</td>\n",
       "      <td>3</td>\n",
       "      <td>999</td>\n",
       "      <td>2</td>\n",
       "      <td>1</td>\n",
       "      <td>1</td>\n",
       "      <td>2</td>\n",
       "      <td>1</td>\n",
       "      <td>4</td>\n",
       "      <td>2</td>\n",
       "    </tr>\n",
       "  </tbody>\n",
       "</table>\n",
       "<p>34245 rows × 13 columns</p>\n",
       "</div>"
      ],
      "text/plain": [
       "        High_Blood_Pressure  Had_Heart_Attack(Target2)  Any_Heart_Stroke  \\\n",
       "34                        3                          2                 2   \n",
       "70                        3                          2                 2   \n",
       "217                       3                          2                 2   \n",
       "238                       3                          2                 2   \n",
       "242                       3                          2                 2   \n",
       "...                     ...                        ...               ...   \n",
       "328189                    3                          2                 2   \n",
       "328201                    3                          2                 2   \n",
       "328213                    3                          2                 2   \n",
       "328215                    3                          2                 2   \n",
       "328216                    3                          2                 2   \n",
       "\n",
       "        Check_Kidney  Diabetes  Diabetis-age  Smoker  Exercise_Any  \\\n",
       "34                 2         3           999       2             1   \n",
       "70                 2         3           999     999           999   \n",
       "217                2         3           999       2             1   \n",
       "238                2         3           999       2             1   \n",
       "242                2         3           999       1           999   \n",
       "...              ...       ...           ...     ...           ...   \n",
       "328189             2         3           999       1             2   \n",
       "328201             2         3           999       1             2   \n",
       "328213             2         3           999       2             2   \n",
       "328215             2         3           999       2             1   \n",
       "328216             2         3           999       2             1   \n",
       "\n",
       "        Cholesterol_Check  Sex  Age_Group  BMI categories  Drinker_Any  \n",
       "34                      1    2          7               2            1  \n",
       "70                      1    1          3               4            9  \n",
       "217                     1    2          7               2            1  \n",
       "238                     1    2          6               4            1  \n",
       "242                     1    1          6               3            9  \n",
       "...                   ...  ...        ...             ...          ...  \n",
       "328189                  1    2          6               2            1  \n",
       "328201                  2    1          1               3            1  \n",
       "328213                  1    2          1               3            1  \n",
       "328215                  1    2          7               3            1  \n",
       "328216                  1    2          1               4            2  \n",
       "\n",
       "[34245 rows x 13 columns]"
      ]
     },
     "execution_count": 483,
     "metadata": {},
     "output_type": "execute_result"
    }
   ],
   "source": [
    "xyz=np.where(y_p1[:,1]<0.01)[0]\n",
    "x.iloc[xyz]"
   ]
  },
  {
   "cell_type": "code",
   "execution_count": 484,
   "metadata": {},
   "outputs": [
    {
     "data": {
      "text/plain": [
       "328219"
      ]
     },
     "execution_count": 484,
     "metadata": {},
     "output_type": "execute_result"
    }
   ],
   "source": [
    "len(data)"
   ]
  },
  {
   "cell_type": "code",
   "execution_count": null,
   "metadata": {},
   "outputs": [],
   "source": []
  }
 ],
 "metadata": {
  "kernelspec": {
   "display_name": "Python 3",
   "language": "python",
   "name": "python3"
  },
  "language_info": {
   "codemirror_mode": {
    "name": "ipython",
    "version": 3
   },
   "file_extension": ".py",
   "mimetype": "text/x-python",
   "name": "python",
   "nbconvert_exporter": "python",
   "pygments_lexer": "ipython3",
   "version": "3.10.9"
  }
 },
 "nbformat": 4,
 "nbformat_minor": 2
}
